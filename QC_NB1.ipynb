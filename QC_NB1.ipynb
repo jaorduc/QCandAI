{
 "cells": [
  {
   "cell_type": "markdown",
   "id": "594964a8-531c-4588-8a5d-d48ad978ee30",
   "metadata": {},
   "source": [
    "<div id=\"header\"><p style=\"color:#2ea44f; text-align:center; font-weight:bold; font-family:verdana; font-size:25px;\">Exploring quantum circuits as activation function within cryptography field</p></div>\n",
    "\n",
    "[licenseBDG]: https://img.shields.io/badge/License-CC-orange?style=plastic\n",
    "[license]: https://creativecommons.org/licenses/by-nc-sa/3.0/deed.en\n",
    "\n",
    "[mywebsiteBDG]:https://img.shields.io/badge/website-jaorduz.github.io-0abeeb?style=plastic\n",
    "[mywebsite]: https://jaorduz.github.io/\n",
    "\n",
    "[mygithubBDG-jaorduz]: https://img.shields.io/badge/jaorduz-repos-blue?logo=github&label=jaorduz&style=plastic\n",
    "[mygithub-jaorduz]: https://github.com/jaorduz/\n",
    "\n",
    "[mygithubBDG-jaorduc]: https://img.shields.io/badge/jaorduc-repos-blue?logo=github&label=jaorduc&style=plastic \n",
    "[mygithub-jaorduc]: https://github.com/jaorduc/\n",
    "\n",
    "[myXprofileBDG]: https://img.shields.io/static/v1?label=Follow&message=jaorduc&color=2ea44f&style=plastic&logo=X&logoColor=black\n",
    "[myXprofile]:https://twitter.com/jaorduc\n",
    "\n",
    "\n",
    "[![website - jaorduz.github.io][mywebsiteBDG]][mywebsite]\n",
    "[![Github][mygithubBDG-jaorduz]][mygithub-jaorduz]\n",
    "[![Github][mygithubBDG-jaorduc]][mygithub-jaorduc]\n",
    "[![Follow @jaorduc][myXprofileBDG]][myXprofile]\n",
    "[![CC License][licenseBDG]][license]\n",
    "\n",
    "---\n",
    "\n",
    "<p style=\"text-align:right; font-family:verdana;\"><a href=\"mywebsite\" style=\"color:#2ea44f; text-decoration:none;\">@Javier Orduz</a></p>"
   ]
  },
  {
   "cell_type": "markdown",
   "id": "9a777002-589d-4313-becd-7244074e064c",
   "metadata": {},
   "source": [
    "<div id=\"header\"><p style=\"color:#2ea44f; text-align:center; font-weight:bold; font-family:verdana; font-size:18px;\">Creating a quantum circuit</p></div>"
   ]
  },
  {
   "cell_type": "code",
   "execution_count": null,
   "id": "9a189bfe-804c-4f1f-80d4-929de84553f0",
   "metadata": {},
   "outputs": [],
   "source": [
    "from qiskit import *\n",
    "from qiskit import QuantumRegister, QuantumCircuit, ClassicalRegister"
   ]
  },
  {
   "cell_type": "markdown",
   "id": "08dc976b",
   "metadata": {},
   "source": [
    "<div id=\"header\"><p style=\"color:#2ea44f; text-align:left; font-weight:bold; font-family:verdana; font-size:14px;\">Create a qubit register</p></div>"
   ]
  },
  {
   "cell_type": "code",
   "execution_count": 2,
   "id": "35c380cb",
   "metadata": {},
   "outputs": [],
   "source": [
    "qr = QuantumRegister(2, name=\"qr\")\n",
    "cr = ClassicalRegister(2,name=\"cr\")"
   ]
  },
  {
   "cell_type": "markdown",
   "id": "4e4c44bb",
   "metadata": {},
   "source": [
    "<div id=\"header\"><p style=\"color:#2ea44f; text-align:left; font-weight:bold; font-family:verdana; font-size:14px;\">Create a circuit using the register</p></div>"
   ]
  },
  {
   "cell_type": "code",
   "execution_count": 3,
   "id": "55b2338c",
   "metadata": {},
   "outputs": [],
   "source": [
    "import matplotlib.pyplot as plt\n",
    "%matplotlib inline"
   ]
  },
  {
   "cell_type": "code",
   "execution_count": 4,
   "id": "8087268e",
   "metadata": {},
   "outputs": [],
   "source": [
    "\n",
    "circuit = QuantumCircuit(qr,cr)"
   ]
  },
  {
   "cell_type": "code",
   "execution_count": 5,
   "id": "365e673d",
   "metadata": {},
   "outputs": [
    {
     "data": {
      "image/png": "[encoded data removed]",
      "text/plain": [
       "<Figure size 173.897x284.278 with 1 Axes>"
      ]
     },
     "execution_count": 5,
     "metadata": {},
     "output_type": "execute_result"
    }
   ],
   "source": [
    "circuit.draw(output=\"mpl\")"
   ]
  },
  {
   "cell_type": "markdown",
   "id": "80f26556",
   "metadata": {},
   "source": [
    "<div id=\"header\"><p style=\"color:#2ea44f; text-align:left; font-weight:bold; font-family:verdana; font-size:14px;\">Putting a NOT gate</p></div>"
   ]
  },
  {
   "cell_type": "code",
   "execution_count": 6,
   "id": "df43edbd",
   "metadata": {},
   "outputs": [
    {
     "data": {
      "image/png": "[encoded data removed]",
      "text/plain": [
       "<Figure size 215.702x284.278 with 1 Axes>"
      ]
     },
     "execution_count": 6,
     "metadata": {},
     "output_type": "execute_result"
    }
   ],
   "source": [
    "circuit.cx(qr[0],qr[1])\n",
    "circuit.draw(output='mpl')"
   ]
  },
  {
   "cell_type": "markdown",
   "id": "6dcaefc1",
   "metadata": {},
   "source": [
    "<div id=\"header\"><p style=\"color:#2ea44f; text-align:left; font-weight:bold; font-family:verdana; font-size:14px;\">Versions</p></div>"
   ]
  },
  {
   "cell_type": "code",
   "execution_count": 8,
   "id": "467ed17f",
   "metadata": {},
   "outputs": [
    {
     "name": "stdout",
     "output_type": "stream",
     "text": [
      "python version:  3.9.21\n",
      "qiskit==1.4.1\n",
      "qiskit-aer==0.16.4\n",
      "qiskit-ibm-runtime==0.36.1\n"
     ]
    }
   ],
   "source": [
    "from platform import python_version\n",
    "print(\"python version: \", python_version())\n",
    "!pip3 freeze | grep qiskit\n"
   ]
  },
  {
   "cell_type": "markdown",
   "id": "d150a608-51d2-4dfd-9e53-90c0c28e9ce0",
   "metadata": {},
   "source": [
    "# References\n",
    "\n",
    "[1] https://www.digitalocean.com/community/tutorials/relu-function-in-python\n",
    "\n",
    "[2] https://www.digitalocean.com/community/tutorials/sigmoid-activation-function-python"
   ]
  },
  {
   "cell_type": "code",
   "execution_count": null,
   "id": "302c4e1e-4129-47a5-856c-47f905a04365",
   "metadata": {},
   "outputs": [],
   "source": []
  }
 ],
 "metadata": {
  "kernelspec": {
   "display_name": "Py39Qskt",
   "language": "python",
   "name": "python3"
  },
  "language_info": {
   "codemirror_mode": {
    "name": "ipython",
    "version": 3
   },
   "file_extension": ".py",
   "mimetype": "text/x-python",
   "name": "python",
   "nbconvert_exporter": "python",
   "pygments_lexer": "ipython3",
   "version": "3.9.21"
  }
 },
 "nbformat": 4,
 "nbformat_minor": 5
}
