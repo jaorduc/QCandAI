{
 "cells": [
  {
   "cell_type": "markdown",
   "id": "594964a8-531c-4588-8a5d-d48ad978ee30",
   "metadata": {},
   "source": [
    "<div id=\"header\"><p style=\"color:#2ea44f; text-align:center; font-weight:bold; font-family:verdana; font-size:25px;\">Exploring quantum circuits as activation function within cryptography field</p></div>\n",
    "\n",
    "[licenseBDG]: https://img.shields.io/badge/License-CC-orange?style=plastic\n",
    "[license]: https://creativecommons.org/licenses/by-nc-sa/3.0/deed.en\n",
    "\n",
    "[mywebsiteBDG]:https://img.shields.io/badge/website-jaorduz.github.io-0abeeb?style=plastic\n",
    "[mywebsite]: https://jaorduz.github.io/\n",
    "\n",
    "[mygithubBDG-jaorduz]: https://img.shields.io/badge/jaorduz-repos-blue?logo=github&label=jaorduz&style=plastic\n",
    "[mygithub-jaorduz]: https://github.com/jaorduz/\n",
    "\n",
    "[mygithubBDG-jaorduc]: https://img.shields.io/badge/jaorduc-repos-blue?logo=github&label=jaorduc&style=plastic \n",
    "[mygithub-jaorduc]: https://github.com/jaorduc/\n",
    "\n",
    "[myXprofileBDG]: https://img.shields.io/static/v1?label=Follow&message=jaorduc&color=2ea44f&style=plastic&logo=X&logoColor=black\n",
    "[myXprofile]:https://twitter.com/jaorduc\n",
    "\n",
    "\n",
    "[![website - jaorduz.github.io][mywebsiteBDG]][mywebsite]\n",
    "[![Github][mygithubBDG-jaorduz]][mygithub-jaorduz]\n",
    "[![Github][mygithubBDG-jaorduc]][mygithub-jaorduc]\n",
    "[![Follow @jaorduc][myXprofileBDG]][myXprofile]\n",
    "[![CC License][licenseBDG]][license]\n",
    "\n",
    "---\n",
    "\n",
    "<p style=\"text-align:right; font-family:verdana;\"><a href=\"mywebsite\" style=\"color:#2ea44f; text-decoration:none;\">@Javier Orduz</a></p>"
   ]
  },
  {
   "cell_type": "markdown",
   "id": "9a777002-589d-4313-becd-7244074e064c",
   "metadata": {},
   "source": [
    "\n",
    "<div id=\"header\"><p style=\"color:#2ea44f; text-align:center; font-weight:bold; font-family:verdana; font-size:18px;\">Part II: Puting a number in a Quantum Circuit and implementing a quantum simulator</p></div>"
   ]
  },
  {
   "cell_type": "code",
   "execution_count": null,
   "id": "02b50e95",
   "metadata": {},
   "outputs": [],
   "source": [
    "from qiskit import QuantumRegister, QuantumCircuit, ClassicalRegister\n",
    "from qiskit_aer import Aer, AerSimulator\n",
    "from qiskit import transpile\n",
    "import matplotlib.pyplot as plt\n",
    "import qiskit\n",
    "%matplotlib inline"
   ]
  },
  {
   "cell_type": "markdown",
   "id": "4e4c44bb",
   "metadata": {},
   "source": [
    "## \n"
   ]
  },
  {
   "cell_type": "markdown",
   "id": "14392855",
   "metadata": {},
   "source": [
    "Now we want to put two decimal numbers, convert them to binary using,\n",
    "```python\n",
    "\"{0:{fill}3b}\".format(number,fill=\"0\")\n",
    "```\n",
    "you should provide `number`, get them in binary system and use the NB 2 to calculate the output.\n",
    "\n",
    "We will create a function, and will use lambda functions. We will put a for loop to evaluate the different digits in the binary string and make a negations. Namely, applying a `X-Gate`"
   ]
  },
  {
   "cell_type": "code",
   "execution_count": null,
   "id": "9408bfeb",
   "metadata": {},
   "outputs": [],
   "source": [
    "def _input(a):\n",
    "    ni=3\n",
    "    get_binary = lambda x : \"{0:{fill}3b}\".format(x,fill=\"0\")\n",
    "    qa = QuantumRegister(ni, name=\"qa\")\n",
    "    cc = ClassicalRegister(ni,name=\"cc\")\n",
    "    qc = QuantumCircuit(qa, cc)\n",
    "    a_binary = get_binary(a)\n",
    "        \n",
    "    for i in range(ni):\n",
    "        if a_binary[i] == \"1\":\n",
    "            qc.x(qa[2-i])\n",
    "    return qc, qa, cc\n",
    "    "
   ]
  },
  {
   "cell_type": "markdown",
   "id": "b080ae34",
   "metadata": {},
   "source": [
    "we are going to measure one of the two numbers."
   ]
  },
  {
   "cell_type": "code",
   "execution_count": null,
   "id": "b0186ac7",
   "metadata": {},
   "outputs": [],
   "source": [
    "qc, qa, cc = _input(5)\n",
    "qc.measure(qa,cc)\n",
    "qc.draw(output=\"mpl\")"
   ]
  },
  {
   "cell_type": "markdown",
   "id": "d8e803fe",
   "metadata": {},
   "source": [
    "We will use some bult-in functions from qiskit"
   ]
  },
  {
   "cell_type": "code",
   "execution_count": null,
   "id": "8a03e7c1",
   "metadata": {},
   "outputs": [],
   "source": [
    "bcknd = Aer.get_backend('qasm_simulator')\n",
    "qctranspile = transpile(qc, bcknd)\n",
    "job = bcknd.run(qctranspile)"
   ]
  },
  {
   "cell_type": "code",
   "execution_count": null,
   "id": "89e66192",
   "metadata": {},
   "outputs": [],
   "source": [
    "result = job.result()\n",
    "counts = result.get_counts(qc)\n",
    "print(counts)"
   ]
  },
  {
   "cell_type": "markdown",
   "id": "6dcaefc1",
   "metadata": {},
   "source": [
    "<div id=\"header\"><p style=\"color:#2ea44f; text-align:left; font-weight:bold; font-family:verdana; font-size:14px;\">Versions</p></div>"
   ]
  },
  {
   "cell_type": "code",
   "execution_count": null,
   "id": "467ed17f",
   "metadata": {},
   "outputs": [],
   "source": [
    "from platform import python_version\n",
    "print(\"python version: \", python_version())\n",
    "!pip3 freeze | grep qiskit"
   ]
  },
  {
   "cell_type": "markdown",
   "id": "d150a608-51d2-4dfd-9e53-90c0c28e9ce0",
   "metadata": {},
   "source": [
    "<div id=\"header\"><p style=\"color:#2ea44f; text-align:left; font-weight:bold; font-family:verdana; font-size:14px;\">References</p></div>\n",
    "\n",
    "[1] https://www.digitalocean.com/community/tutorials/relu-function-in-python\n",
    "\n",
    "[2] https://www.digitalocean.com/community/tutorials/sigmoid-activation-function-python"
   ]
  },
  {
   "cell_type": "code",
   "execution_count": null,
   "id": "302c4e1e-4129-47a5-856c-47f905a04365",
   "metadata": {},
   "outputs": [],
   "source": []
  }
 ],
 "metadata": {
  "kernelspec": {
   "display_name": "Py39Qskt",
   "language": "python",
   "name": "python3"
  },
  "language_info": {
   "codemirror_mode": {
    "name": "ipython",
    "version": 3
   },
   "file_extension": ".py",
   "mimetype": "text/x-python",
   "name": "python",
   "nbconvert_exporter": "python",
   "pygments_lexer": "ipython3",
   "version": "3.9.21"
  }
 },
 "nbformat": 4,
 "nbformat_minor": 5
}
