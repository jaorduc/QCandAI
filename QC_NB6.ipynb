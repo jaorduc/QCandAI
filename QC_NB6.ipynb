{
 "cells": [
  {
   "cell_type": "markdown",
   "id": "594964a8-531c-4588-8a5d-d48ad978ee30",
   "metadata": {},
   "source": [
    "<div id=\"header\"><p style=\"color:#2ea44f; text-align:center; font-weight:bold; font-family:verdana; font-size:25px;\">Exploring quantum circuits as activation function within cryptography field</p></div>\n",
    "\n",
    "[licenseBDG]: https://img.shields.io/badge/License-CC-orange?style=plastic\n",
    "[license]: https://creativecommons.org/licenses/by-nc-sa/3.0/deed.en\n",
    "\n",
    "[mywebsiteBDG]:https://img.shields.io/badge/website-jaorduz.github.io-0abeeb?style=plastic\n",
    "[mywebsite]: https://jaorduz.github.io/\n",
    "\n",
    "[mygithubBDG-jaorduz]: https://img.shields.io/badge/jaorduz-repos-blue?logo=github&label=jaorduz&style=plastic\n",
    "[mygithub-jaorduz]: https://github.com/jaorduz/\n",
    "\n",
    "[mygithubBDG-jaorduc]: https://img.shields.io/badge/jaorduc-repos-blue?logo=github&label=jaorduc&style=plastic \n",
    "[mygithub-jaorduc]: https://github.com/jaorduc/\n",
    "\n",
    "[myXprofileBDG]: https://img.shields.io/static/v1?label=Follow&message=jaorduc&color=2ea44f&style=plastic&logo=X&logoColor=black\n",
    "[myXprofile]:https://twitter.com/jaorduc\n",
    "\n",
    "\n",
    "[![website - jaorduz.github.io][mywebsiteBDG]][mywebsite]\n",
    "[![Github][mygithubBDG-jaorduz]][mygithub-jaorduz]\n",
    "[![Github][mygithubBDG-jaorduc]][mygithub-jaorduc]\n",
    "[![Follow @jaorduc][myXprofileBDG]][myXprofile]\n",
    "[![CC License][licenseBDG]][license]\n",
    "\n",
    "---\n",
    "\n",
    "<p style=\"text-align:right; font-family:verdana;\"><a href=\"mywebsite\" style=\"color:#2ea44f; text-decoration:none;\">@Javier Orduz</a></p>"
   ]
  },
  {
   "cell_type": "markdown",
   "id": "9a777002-589d-4313-becd-7244074e064c",
   "metadata": {},
   "source": [
    "\n",
    "<div id=\"header\"><p style=\"color:#2ea44f; text-align:center; font-weight:bold; font-family:verdana; font-size:18px;\">Part II: Introducing QFT</p></div>"
   ]
  },
  {
   "cell_type": "code",
   "execution_count": 1,
   "id": "02b50e95",
   "metadata": {},
   "outputs": [],
   "source": [
    "from qiskit import QuantumRegister, QuantumCircuit, ClassicalRegister\n",
    "from qiskit_aer import Aer, AerSimulator\n",
    "from qiskit import transpile\n",
    "# import matplotlib.pyplot as plt\n",
    "from qiskit import *\n",
    "import qiskit\n",
    "import numpy as np\n",
    "from qiskit.circuit.library import QFT, CU1Gate, CXGate\n",
    "# %matplotlib inline\n",
    "\n"
   ]
  },
  {
   "cell_type": "markdown",
   "id": "4e4c44bb",
   "metadata": {},
   "source": [
    "## \n"
   ]
  },
  {
   "cell_type": "markdown",
   "id": "14392855",
   "metadata": {},
   "source": [
    "Now we want to put two decimal numbers, convert them to binary using,\n",
    "```python\n",
    "\"{0:{fill}3b}\".format(number,fill=\"0\")\n",
    "```\n",
    "you should provide `number`, get them in binary system and use the NB 2 to calculate the output.\n",
    "\n",
    "We will create a function, and will use lambda functions. We will put a for loop to evaluate the different digits in the binary string and make a negations. Namely, applying a `X-Gate`"
   ]
  },
  {
   "cell_type": "code",
   "execution_count": 2,
   "id": "9408bfeb",
   "metadata": {},
   "outputs": [],
   "source": [
    "def _input(a, b):\n",
    "    ni=3\n",
    "    get_binary = lambda x : \"{0:{fill}3b}\".format(x,fill=\"0\")\n",
    "    qa = QuantumRegister(ni, name=\"qa\")\n",
    "    qb = QuantumRegister(ni,name=\"qb\")\n",
    "    cc = ClassicalRegister(ni,name=\"cc\")\n",
    "    qc = QuantumCircuit(qa, qb, cc)\n",
    "    a_binary = get_binary(a)\n",
    "    b_binary = get_binary(b)\n",
    "        \n",
    "    for i in range(ni):\n",
    "        if a_binary[i] == \"1\":\n",
    "            qc.x(qa[2-i])\n",
    "        if b_binary[i] == \"1\":\n",
    "            qc.x(qb[2-i])\n",
    "    return qc, qa, qb, cc"
   ]
  },
  {
   "cell_type": "markdown",
   "id": "fd414bf3",
   "metadata": {},
   "source": [
    "A common error is using the correct notation for the control gates. \n",
    "For this Qiskit 1.4.1, I used the method `.cp(a,b,c,d)`.\n",
    "A controlled gate is a diagonal and symmetric gate that induces a phase on the state of the target qubit, depending on the control state [[3](#references)]."
   ]
  },
  {
   "cell_type": "code",
   "execution_count": 3,
   "id": "8eba7cde",
   "metadata": {},
   "outputs": [],
   "source": [
    "def controlled_rotations(qc, rqa, rqb, n):\n",
    "    for i in range(0,n+1):\n",
    "        qc.cp(np.pi/2**i,rqb[n-i],rqa[n])"
   ]
  },
  {
   "cell_type": "markdown",
   "id": "b080ae34",
   "metadata": {},
   "source": [
    "we are going to measure one of the two numbers."
   ]
  },
  {
   "cell_type": "code",
   "execution_count": 4,
   "id": "b0186ac7",
   "metadata": {},
   "outputs": [],
   "source": [
    "qc, qa, qb, cc = _input(1,3)"
   ]
  },
  {
   "cell_type": "markdown",
   "id": "2e47fd2f",
   "metadata": {},
   "source": [
    "We implement QFT for `qa` number, and use the numbers 2,1,0 which is the order of the array to get the number inside `qa`. It means we transform the `qa=1` in binary to the Fourier Space. Check the plot.\n",
    "The `QFT` has three parameters: `number of qbits, do_swaps`, and `[q0,q1,q2]`which qbits we will use."
   ]
  },
  {
   "cell_type": "code",
   "execution_count": 5,
   "id": "a6ef3868",
   "metadata": {},
   "outputs": [
    {
     "data": {
      "text/plain": [
       "<qiskit.circuit.instructionset.InstructionSet at 0x121e45ca0>"
      ]
     },
     "execution_count": 5,
     "metadata": {},
     "output_type": "execute_result"
    }
   ],
   "source": [
    "qc.append(QFT(3,do_swaps=False),[2,1,0])\n"
   ]
  },
  {
   "cell_type": "code",
   "execution_count": 6,
   "id": "72c6a5b6",
   "metadata": {},
   "outputs": [],
   "source": [
    "for i in range(0,3):\n",
    "    controlled_rotations(qc,qa,qb,2-i)"
   ]
  },
  {
   "cell_type": "code",
   "execution_count": 7,
   "id": "73bc75b6",
   "metadata": {},
   "outputs": [
    {
     "data": {
      "image/png": "[encoded data removed]",
      "text/plain": [
       "<Figure size 1058.43x618.722 with 1 Axes>"
      ]
     },
     "execution_count": 7,
     "metadata": {},
     "output_type": "execute_result"
    }
   ],
   "source": [
    "qc.draw(output=\"mpl\")"
   ]
  },
  {
   "cell_type": "markdown",
   "id": "6dcaefc1",
   "metadata": {},
   "source": [
    "<div id=\"header\"><p style=\"color:#2ea44f; text-align:left; font-weight:bold; font-family:verdana; font-size:14px;\">Versions</p></div>"
   ]
  },
  {
   "cell_type": "code",
   "execution_count": 8,
   "id": "467ed17f",
   "metadata": {},
   "outputs": [
    {
     "name": "stdout",
     "output_type": "stream",
     "text": [
      "python version:  3.9.21\n",
      "qiskit==1.4.1\n",
      "qiskit-aer==0.17.0\n",
      "qiskit-ibm-runtime==0.36.1\n"
     ]
    }
   ],
   "source": [
    "from platform import python_version\n",
    "print(\"python version: \", python_version())\n",
    "!pip3 freeze | grep qiskit\n"
   ]
  },
  {
   "cell_type": "markdown",
   "id": "d150a608-51d2-4dfd-9e53-90c0c28e9ce0",
   "metadata": {},
   "source": [
    "<div id=\"references\"><p style=\"color:#2ea44f; text-align:left; font-weight:bold; font-family:verdana; font-size:14px;\">References</p></div>\n",
    "\n",
    "[1] https://www.digitalocean.com/community/tutorials/relu-function-in-python\n",
    "\n",
    "[2] https://www.digitalocean.com/community/tutorials/sigmoid-activation-function-python\n",
    "\n",
    "[3] https://docs.quantum.ibm.com/api/qiskit/qiskit.circuit.library.CPhaseGate"
   ]
  },
  {
   "cell_type": "code",
   "execution_count": null,
   "id": "302c4e1e-4129-47a5-856c-47f905a04365",
   "metadata": {},
   "outputs": [],
   "source": []
  }
 ],
 "metadata": {
  "kernelspec": {
   "display_name": "Py39Qskt",
   "language": "python",
   "name": "python3"
  },
  "language_info": {
   "codemirror_mode": {
    "name": "ipython",
    "version": 3
   },
   "file_extension": ".py",
   "mimetype": "text/x-python",
   "name": "python",
   "nbconvert_exporter": "python",
   "pygments_lexer": "ipython3",
   "version": "3.9.21"
  }
 },
 "nbformat": 4,
 "nbformat_minor": 5
}
